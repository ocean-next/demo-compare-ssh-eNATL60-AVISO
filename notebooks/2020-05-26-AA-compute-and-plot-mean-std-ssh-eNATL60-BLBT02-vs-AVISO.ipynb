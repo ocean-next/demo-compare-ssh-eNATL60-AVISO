{
 "cells": [
  {
   "cell_type": "markdown",
   "metadata": {},
   "source": [
    "## All the imports"
   ]
  },
  {
   "cell_type": "code",
   "execution_count": 1,
   "metadata": {},
   "outputs": [],
   "source": [
    "import warnings\n",
    "warnings.filterwarnings(\"ignore\")\n",
    "import dask \n",
    "import numpy as np\n",
    "import xarray as xr\n",
    "import time\n",
    "import numpy.ma as ma\n",
    "import matplotlib.cm as mplcm\n",
    "import matplotlib.pyplot as plt\n",
    "import cartopy.crs as ccrs\n",
    "import matplotlib.ticker as mticker\n",
    "import os \n",
    "import time \n",
    "import glob\n",
    "import cartopy.crs as ccrs\n",
    "import matplotlib.ticker as mticker\n",
    "from cartopy.mpl.gridliner import LONGITUDE_FORMATTER, LATITUDE_FORMATTER\n",
    "import cartopy.feature as cfeature\n",
    "\n",
    "import zarr\n",
    "from intake import open_catalog\n",
    "\n",
    "%matplotlib inline\n"
   ]
  },
  {
   "cell_type": "markdown",
   "metadata": {},
   "source": [
    "## Load the data from the catalog"
   ]
  },
  {
   "cell_type": "code",
   "execution_count": 2,
   "metadata": {},
   "outputs": [],
   "source": [
    "# AVISO data\n",
    "\n",
    "cat = open_catalog(\"https://raw.githubusercontent.com/pangeo-data/pangeo-datastore/master/intake-catalogs/ocean.yaml\")\n",
    "ds  = cat[\"sea_surface_height\"].to_dask()\n",
    "ds"
   ]
  },
  {
   "cell_type": "code",
   "execution_count": 5,
   "metadata": {},
   "outputs": [],
   "source": [
    "# eNATL60 ssh\n",
    "\n",
    "cat2 = open_catalog(\"https://raw.githubusercontent.com/pangeo-data/pangeo-datastore/master/intake-catalogs/ocean/MEOM-NEMO.yaml\")\n",
    "ds2  = cat2[\"eNATL60_BLBT02_SSH\"].to_dask()\n",
    "ds2"
   ]
  },
  {
   "cell_type": "code",
   "execution_count": 13,
   "metadata": {},
   "outputs": [],
   "source": [
    "# eNATL60 grid\n",
    "\n",
    "catg = open_catalog(\"https://raw.githubusercontent.com/pangeo-data/pangeo-datastore/master/intake-catalogs/ocean/MEOM-NEMO.yaml\")\n",
    "dsg  = catg[\"eNATL60_grid\"].to_dask()\n",
    "dsg"
   ]
  },
  {
   "cell_type": "markdown",
   "metadata": {},
   "source": [
    "## Request ressources"
   ]
  },
  {
   "cell_type": "code",
   "execution_count": null,
   "metadata": {},
   "outputs": [],
   "source": [
    "from dask.distributed import Client\n",
    "from dask_gateway import Gateway\n",
    "\n",
    "gateway = Gateway()\n",
    "cluster = gateway.new_cluster()\n",
    "cluster.scale(20)\n",
    "cluster"
   ]
  },
  {
   "cell_type": "code",
   "execution_count": null,
   "metadata": {},
   "outputs": [],
   "source": [
    "client = Client(cluster)\n",
    "client"
   ]
  },
  {
   "cell_type": "markdown",
   "metadata": {},
   "source": [
    "## Region and dates selection"
   ]
  },
  {
   "cell_type": "code",
   "execution_count": null,
   "metadata": {},
   "outputs": [],
   "source": [
    "box=(-90,-50,30,50)\n",
    "domainAVISO=(box[0]<ds.navlon)*(navlon<box[1])*(box[2]<navlat)*(navlat<box[3])\n",
    "where=np.where(domain)"
   ]
  },
  {
   "cell_type": "markdown",
   "metadata": {},
   "source": [
    "## Compute mean and standart deviation "
   ]
  },
  {
   "cell_type": "code",
   "execution_count": 4,
   "metadata": {},
   "outputs": [],
   "source": [
    "# Select the right period in AVISO data\n",
    "\n",
    "aviso_year = ds.sel(time=slice('2009-06-30','2010-10-29'))\n",
    "myadt = aviso_year.adt\n",
    "rms_ssh = myadt.std(dim='time')\n",
    "aviso_mssh = myadt.mean(dim='time') - myadt.mean()\n"
   ]
  },
  {
   "cell_type": "code",
   "execution_count": 7,
   "metadata": {},
   "outputs": [],
   "source": [
    "# Daily average of hourly ssh for eNATL60 outputs\n",
    "\n",
    "ds_sorted=ds2.sortby('time_counter')\n",
    "ssh_eNATL60=ds_sorted.sossheig\n",
    "ssh_eNATL60_1d_2009=ssh_eNATL60.sel(time_counter=slice('2009-06-30','2009-12-31')).groupby('time_counter.dayofyear').mean(dim='time_counter')\n",
    "ssh_eNATL60_1d_2010=ssh_eNATL60.sel(time_counter=slice('2010-01-01','2010-10-29')).groupby('time_counter.dayofyear').mean(dim='time_counter')\n",
    "ssh_eNATL60_1d=xr.concat([ssh_eNATL60_1d_2009,ssh_eNATL60_1d_2010],dim='dayofyear')\n",
    "std_ssh_eNATL60=ssh_eNATL60_1d.std(dim='dayofyear')\n",
    "mean_ssh_eNATL60=ssh_eNATL60_1d.mean(dim='dayofyear')-ssh_eNATL60.mean()"
   ]
  },
  {
   "cell_type": "code",
   "execution_count": 10,
   "metadata": {},
   "outputs": [],
   "source": [
    "## Save the results in netcdf for future usage"
   ]
  },
  {
   "cell_type": "code",
   "execution_count": 11,
   "metadata": {},
   "outputs": [],
   "source": [
    "std_dataset=rms_ssh.to_dataset(name='std_sossheig')\n",
    "std_dataset['std_sossheig'].attrs=myadt.attrs\n",
    "std_dataset['std_sossheig'].attrs['standard_name']='standart deviation of ssh'\n",
    "std_dataset['std_sossheig'].attrs['long_name']='standart deviation of sea surface height'\n",
    "std_dataset.attrs['global_attribute']= 'standart deviation of ssh computed on the cloud '\n",
    "std_dataset.to_netcdf(path='AVISO_y2009m06d30-y2010m10d29_std-ssh.nc',mode='w')"
   ]
  },
  {
   "cell_type": "code",
   "execution_count": 12,
   "metadata": {},
   "outputs": [],
   "source": [
    "mean_ssh_eNATL60=aviso_mssh.to_dataset(name='mean_sossheig')\n",
    "mean_ssh_eNATL60['mean_sossheig'].attrs=myadt.attrs\n",
    "mean_ssh_eNATL60['mean_sossheig'].attrs['standard_name']='temporal mean of ssh'\n",
    "mean_ssh_eNATL60['mean_sossheig'].attrs['long_name']='temporal mean of sea surface height'\n",
    "mean_ssh_eNATL60.attrs['global_attribute']= 'temporal mean of ssh computed on the cloud '\n",
    "mean_ssh_eNATL60.to_netcdf(path='AVISO_y2009m06d30-y2010m10d29_mean-ssh.nc',mode='w')"
   ]
  },
  {
   "cell_type": "code",
   "execution_count": null,
   "metadata": {},
   "outputs": [],
   "source": [
    "std_dataset=std_ssh_eNATL60.to_dataset(name='std_sossheig')\n",
    "std_dataset['std_sossheig'].attrs=ssh_eNATL60.attrs\n",
    "std_dataset['std_sossheig'].attrs['standard_name']='standart deviation of ssh'\n",
    "std_dataset['std_sossheig'].attrs['long_name']='standart deviation of sea surface height'\n",
    "std_dataset.attrs['global_attribute']= 'standart deviation of ssh computed on the cloud '\n",
    "std_dataset.to_netcdf(path='eNATL60-BLBT02_std-ssh_1d.nc',mode='w')"
   ]
  },
  {
   "cell_type": "code",
   "execution_count": null,
   "metadata": {},
   "outputs": [],
   "source": [
    "mean_ssh_eNATL60=mean_ssh_eNATL60.to_dataset(name='mean_sossheig')\n",
    "mean_ssh_eNATL60['mean_sossheig'].attrs=ssh_eNATL60.attrs\n",
    "mean_ssh_eNATL60['mean_sossheig'].attrs['standard_name']='temporal mean of ssh'\n",
    "mean_ssh_eNATL60['mean_sossheig'].attrs['long_name']='temporal mean of sea surface height'\n",
    "mean_ssh_eNATL60.attrs['global_attribute']= 'temporal mean of ssh computed on the cloud '\n",
    "mean_ssh_eNATL60.to_netcdf(path='eNATL60-BLBT02_mean-ssh_1d.nc',mode='w')"
   ]
  },
  {
   "cell_type": "code",
   "execution_count": null,
   "metadata": {},
   "outputs": [],
   "source": [
    "## Make the plots"
   ]
  },
  {
   "cell_type": "code",
   "execution_count": null,
   "metadata": {},
   "outputs": [],
   "source": [
    "ssh_std_eNATL60=xr.open_dataset('eNATL60-BLBT02_std-ssh_1d.nc',chunks={'x':500,'y':500})\n",
    "ssh_mean_eNATL60=xr.open_dataset('eNATL60-BLBT02_mean-ssh_1d.nc',chunks={'x':500,'y':500})\n",
    "ssh_std_AVISO=xr.open_dataset('AVISO_y2009m06d30-y2010m10d29_std-ssh.nc',chunks={'latitude':500,'longitude':500})\n",
    "ssh_mean_AVISO=xr.open_dataset('AVISO_y2009m06d30-y2010m10d29_mean-ssh.nc',chunks={'latitude':500,'longitude':500})\n"
   ]
  },
  {
   "cell_type": "code",
   "execution_count": null,
   "metadata": {},
   "outputs": [],
   "source": [
    "fig=plt.figure(figsize=(20,18))\n",
    "ax = fig.add_subplot(211,projection=ccrs.PlateCarree())\n",
    "ax.set_extent([-100, 50, 0, 65])\n",
    "\n",
    "pcolor=ax.pcolormesh(ds.longitude,ds.latitude,ssh_std_AVISO.std_sossheig,transform=ccrs.PlateCarree(),cmap=mplcm.YlGnBu,vmin=0,vmax=0.5)\n",
    "\n",
    "contour=ax.contour(ds.longitude,ds.latitude,ssh_mean_AVISO.mean_sossheig,np.arange(-1,1,0.15),colors='k',alpha=0.5,linewidth=0.0001,antialiased=True)\n",
    "\n",
    "ax.add_feature(cfeature.LAND,facecolor='grey')\n",
    "gl=ax.gridlines(crs=ccrs.PlateCarree(), draw_labels=True,linewidth=2, color='gray', alpha=0.5, linestyle='--')\n",
    "\n",
    "fig.subplots_adjust(right=0.8)\n",
    "gl.xlocator = mticker.FixedLocator([-110,-90,-70,-50,-30,-10,10,30,50,70,90,110])\n",
    "gl.ylocator = mticker.FixedLocator([-10,0,10,20,30,40,50,60,70,80])\n",
    "gl.xformatter = LONGITUDE_FORMATTER\n",
    "gl.yformatter = LATITUDE_FORMATTER\n",
    "gl.xlabel_style = {'size': 15, 'color': 'black'}\n",
    "gl.ylabel_style = {'size': 15, 'color': 'black'}\n",
    "\n",
    "cbar = plt.colorbar(pcolor,orientation='vertical',shrink=0.75,label='m')\n",
    "ax.text(0.75, 0.25, 'AVISO',fontsize=15, color='white', transform=ax.transAxes)\n",
    "\n",
    "ax = fig.add_subplot(212,projection=ccrs.PlateCarree(central_longitude=-30))\n",
    "ax.set_extent([-100, 50, 0, 65])\n",
    "\n",
    "mask=np.squeeze(dsg.tmaskutil[0])\n",
    "data_ma=np.ma.masked_where(1-mask,ssh_std_eNATL60.std_sossheig)\n",
    "pcolor=ax.pcolormesh(dsg.nav_lon,dsg.nav_lat,data_ma,transform=ccrs.PlateCarree(),cmap=mplcm.YlGnBu,vmin=0,vmax=0.5)\n",
    "\n",
    "data_ma=np.ma.masked_where(1-mask,ssh_mean_eNATL60.mean_sossheig)\n",
    "\n",
    "contour=ax.contour(dsg.nav_lon, dsg.nav_lat,data_ma,np.arange(-1,1,0.15),transform=ccrs.PlateCarree(),colors='k',alpha=0.5,linewidth=0.0001,antialiased=True)\n",
    "\n",
    "ax.add_feature(cfeature.LAND,facecolor='grey')\n",
    "gl=ax.gridlines(crs=ccrs.PlateCarree(), draw_labels=True,linewidth=2, color='gray', alpha=0.5, linestyle='--')\n",
    "\n",
    "fig.subplots_adjust(right=0.8)\n",
    "gl.xlocator = mticker.FixedLocator([-110,-90,-70,-50,-30,-10,10,30,50,70,90,110])\n",
    "gl.ylocator = mticker.FixedLocator([-10,0,10,20,30,40,50,60,70,80])\n",
    "gl.xformatter = LONGITUDE_FORMATTER\n",
    "gl.yformatter = LATITUDE_FORMATTER\n",
    "gl.xlabel_style = {'size': 15, 'color': 'black'}\n",
    "gl.ylabel_style = {'size': 15, 'color': 'black'}\n",
    "\n",
    "cbar = plt.colorbar(pcolor,orientation='vertical',shrink=0.75,label='m')\n",
    "ax.text(0.75, 0.25, 'eNATL60',fontsize=15, color='white',transform=ax.transAxes)\n"
   ]
  },
  {
   "cell_type": "code",
   "execution_count": null,
   "metadata": {},
   "outputs": [],
   "source": []
  }
 ],
 "metadata": {
  "kernelspec": {
   "display_name": "pangeo_cloud",
   "language": "python",
   "name": "pangeo-cloud"
  },
  "language_info": {
   "codemirror_mode": {
    "name": "ipython",
    "version": 3
   },
   "file_extension": ".py",
   "mimetype": "text/x-python",
   "name": "python",
   "nbconvert_exporter": "python",
   "pygments_lexer": "ipython3",
   "version": "3.6.7"
  }
 },
 "nbformat": 4,
 "nbformat_minor": 4
}
