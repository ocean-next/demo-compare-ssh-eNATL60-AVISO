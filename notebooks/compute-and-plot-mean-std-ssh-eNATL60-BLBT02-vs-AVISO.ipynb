{
 "cells": [
  {
   "cell_type": "markdown",
   "metadata": {},
   "source": [
    "## All the imports"
   ]
  },
  {
   "cell_type": "code",
   "execution_count": null,
   "metadata": {},
   "outputs": [],
   "source": [
    "import warnings\n",
    "warnings.filterwarnings(\"ignore\")\n",
    "import dask \n",
    "import numpy as np\n",
    "import xarray as xr\n",
    "import time\n",
    "import numpy.ma as ma\n",
    "import matplotlib.cm as mplcm\n",
    "import matplotlib.pyplot as plt\n",
    "import cartopy.crs as ccrs\n",
    "import matplotlib.ticker as mticker\n",
    "import os \n",
    "import time \n",
    "import glob\n",
    "\n",
    "import cartopy.crs as ccrs\n",
    "import matplotlib.ticker as mticker\n",
    "from cartopy.mpl.gridliner import LONGITUDE_FORMATTER, LATITUDE_FORMATTER\n",
    "import cartopy.feature as cfeature\n",
    "import matplotlib\n",
    "matplotlib.rcParams['figure.figsize']= (20, 8)\n",
    "matplotlib.rcParams['xtick.labelsize']= 22\n",
    "matplotlib.rcParams['ytick.labelsize']= 22\n",
    "matplotlib.rcParams['axes.labelsize']= 22\n",
    "matplotlib.rcParams.update({'font.size': 22})\n",
    "\n",
    "import zarr\n",
    "from intake import open_catalog\n",
    "\n",
    "%matplotlib inline\n"
   ]
  },
  {
   "cell_type": "markdown",
   "metadata": {},
   "source": [
    "## Load the data from the catalog"
   ]
  },
  {
   "cell_type": "code",
   "execution_count": null,
   "metadata": {},
   "outputs": [],
   "source": [
    "# AVISO data\n",
    "\n",
    "cat = open_catalog(\"https://raw.githubusercontent.com/pangeo-data/pangeo-datastore/master/intake-catalogs/ocean.yaml\")\n",
    "ds  = cat[\"sea_surface_height\"].to_dask()\n",
    "ds"
   ]
  },
  {
   "cell_type": "code",
   "execution_count": null,
   "metadata": {},
   "outputs": [],
   "source": [
    "# eNATL60 ssh\n",
    "\n",
    "cat2 = open_catalog(\"https://raw.githubusercontent.com/pangeo-data/pangeo-datastore/master/intake-catalogs/ocean/MEOM-NEMO.yaml\")\n",
    "ds2  = cat2[\"eNATL60_BLBT02_SSH\"].to_dask()\n",
    "ds2"
   ]
  },
  {
   "cell_type": "code",
   "execution_count": null,
   "metadata": {},
   "outputs": [],
   "source": [
    "# eNATL60 grid\n",
    "\n",
    "catg = open_catalog(\"https://raw.githubusercontent.com/pangeo-data/pangeo-datastore/master/intake-catalogs/ocean/MEOM-NEMO.yaml\")\n",
    "dsg  = catg[\"eNATL60_grid\"].to_dask()\n",
    "dsg"
   ]
  },
  {
   "cell_type": "markdown",
   "metadata": {},
   "source": [
    "## Request ressources"
   ]
  },
  {
   "cell_type": "code",
   "execution_count": null,
   "metadata": {},
   "outputs": [],
   "source": [
    "from dask.distributed import Client\n",
    "from dask_gateway import Gateway\n",
    "\n",
    "gateway = Gateway()\n",
    "cluster = gateway.new_cluster()\n",
    "cluster.scale(50)\n",
    "cluster"
   ]
  },
  {
   "cell_type": "code",
   "execution_count": null,
   "metadata": {},
   "outputs": [],
   "source": [
    "client = Client(cluster)\n",
    "client"
   ]
  },
  {
   "cell_type": "markdown",
   "metadata": {},
   "source": [
    "-> click on the link to see the dask workers in action, or copy it and paste it in the dask menu on the left"
   ]
  },
  {
   "cell_type": "markdown",
   "metadata": {},
   "source": [
    "## Region and dates selection"
   ]
  },
  {
   "cell_type": "code",
   "execution_count": null,
   "metadata": {},
   "outputs": [],
   "source": [
    "#Definition of the Gulf Stream region\n",
    "\n",
    "box=(-90,-60,30,45)\n"
   ]
  },
  {
   "cell_type": "code",
   "execution_count": null,
   "metadata": {},
   "outputs": [],
   "source": [
    "#Selection of Gulf Stream region and period of simulation in AVISO data\n",
    "\n",
    "lonAVISO=ds.longitude.values\n",
    "where180=np.where(lonAVISO>180)\n",
    "lonAVISO[where180]=lonAVISO[where180]-360\n",
    "domainAVISOlon=(box[0]<lonAVISO)*(lonAVISO<box[1])\n",
    "domainAVISOlat=(box[2]<ds.latitude.values)*(ds.latitude.values<box[3])\n",
    "whereAVISOlon=np.where(domainAVISOlon)\n",
    "whereAVISOlat=np.where(domainAVISOlat)\n",
    "\n",
    "jminAVISO = whereAVISOlat[0][0]\n",
    "jmaxAVISO = whereAVISOlat[0][-1]\n",
    "iminAVISO = whereAVISOlon[0][0]\n",
    "imaxAVISO = whereAVISOlon[0][-1]\n",
    "\n",
    "aviso_year = ds.sel(time=slice('2009-06-30','2010-10-29'))\n",
    "myadt = aviso_year.adt[:,jminAVISO:jmaxAVISO+1,iminAVISO:imaxAVISO+1]\n",
    "lonAVISO_GS=lonAVISO[iminAVISO:imaxAVISO+1]\n",
    "latAVISO_GS=ds.latitude.values[jminAVISO:jmaxAVISO+1]"
   ]
  },
  {
   "cell_type": "code",
   "execution_count": null,
   "metadata": {},
   "outputs": [],
   "source": [
    "domaineNATL60=(box[0]<dsg.nav_lon)*(dsg.nav_lon<box[1])*(box[2]<dsg.nav_lat)*(dsg.nav_lat<box[3])\n",
    "whereeNATL60=np.where(domaineNATL60)\n",
    "jmineNATL60 = whereeNATL60[0].min()\n",
    "jmaxeNATL60 = whereeNATL60[0].max()\n",
    "imineNATL60 = whereeNATL60[1].min()\n",
    "imaxeNATL60 = whereeNATL60[1].max()\n",
    "\n",
    "ds_sorted=ds2.sortby('time_counter')\n",
    "ssh_eNATL60=ds_sorted.sossheig\n",
    "ssh_eNATL60_GS=ssh_eNATL60[:,jmineNATL60:jmaxeNATL60+1,imineNATL60:imaxeNATL60+1]\n",
    "ssh_eNATL60_1d_2009=ssh_eNATL60.sel(time_counter=slice('2009-06-30','2009-12-31')).groupby('time_counter.dayofyear').mean(dim='time_counter')\n",
    "ssh_eNATL60_1d_2010=ssh_eNATL60.sel(time_counter=slice('2010-01-01','2010-10-29')).groupby('time_counter.dayofyear').mean(dim='time_counter')\n",
    "ssh_eNATL60_1d=xr.concat([ssh_eNATL60_1d_2009,ssh_eNATL60_1d_2010],dim='dayofyear')\n",
    "ssh_eNATL60_1d_GS=ssh_eNATL60_1d[:,jmineNATL60:jmaxeNATL60+1,imineNATL60:imaxeNATL60+1]\n",
    "\n",
    "loneNATL60_GS=dsg.nav_lon[jmineNATL60:jmaxeNATL60+1,imineNATL60:imaxeNATL60+1]\n",
    "lateNATL60_GS=dsg.nav_lat[jmineNATL60:jmaxeNATL60+1,imineNATL60:imaxeNATL60+1]"
   ]
  },
  {
   "cell_type": "code",
   "execution_count": null,
   "metadata": {},
   "outputs": [],
   "source": [
    "print(imineNATL60,imaxeNATL60,jmineNATL60,jmaxeNATL60)"
   ]
  },
  {
   "cell_type": "markdown",
   "metadata": {},
   "source": [
    "## Compute mean and standart deviation "
   ]
  },
  {
   "cell_type": "code",
   "execution_count": null,
   "metadata": {},
   "outputs": [],
   "source": [
    "# Mean and standart deviation of AVISO data\n",
    "\n",
    "std_ssh_AVISO_GS = myadt.std(dim='time')\n",
    "mean_ssh_AVISO_GS = myadt.mean(dim='time') - myadt.mean()\n"
   ]
  },
  {
   "cell_type": "code",
   "execution_count": null,
   "metadata": {},
   "outputs": [],
   "source": [
    "# Check chunks for eNATL60 ssh\n",
    "ssh_eNATL60_1d_GS"
   ]
  },
  {
   "cell_type": "markdown",
   "metadata": {},
   "source": [
    "The data is now chunk along the time dimension dayoftheyear, we rechunk so that the computation of mean and std along this dimension is faster (less dask operations)"
   ]
  },
  {
   "cell_type": "code",
   "execution_count": null,
   "metadata": {},
   "outputs": [],
   "source": [
    "# Rechunk ssh in GS region\n",
    "ssh_eNATL60_1d_GS_rechunk=ssh_eNATL60_1d_GS.chunk({'dayofyear':487,'x':100,'y':100})"
   ]
  },
  {
   "cell_type": "code",
   "execution_count": null,
   "metadata": {},
   "outputs": [],
   "source": [
    "ssh_eNATL60_1d_GS_rechunk"
   ]
  },
  {
   "cell_type": "code",
   "execution_count": null,
   "metadata": {},
   "outputs": [],
   "source": [
    "# Daily average of hourly ssh for eNATL60 outputs\n",
    "\n",
    "std_ssh_eNATL60_GS=ssh_eNATL60_1d_GS_rechunk.std(dim='dayofyear')\n",
    "mean_ssh_eNATL60_GS=ssh_eNATL60_1d_GS_rechunk.mean(dim='dayofyear')-ssh_eNATL60_1d_GS_rechunk.mean()"
   ]
  },
  {
   "cell_type": "markdown",
   "metadata": {},
   "source": [
    "## Check how many operations are needed to compute"
   ]
  },
  {
   "cell_type": "code",
   "execution_count": null,
   "metadata": {},
   "outputs": [],
   "source": [
    "std_ssh_AVISO_GS"
   ]
  },
  {
   "cell_type": "markdown",
   "metadata": {},
   "source": [
    "-> 2115 Tasks"
   ]
  },
  {
   "cell_type": "code",
   "execution_count": null,
   "metadata": {},
   "outputs": [],
   "source": [
    "mean_ssh_AVISO_GS"
   ]
  },
  {
   "cell_type": "markdown",
   "metadata": {},
   "source": [
    "-> 2317 Tasks"
   ]
  },
  {
   "cell_type": "code",
   "execution_count": null,
   "metadata": {},
   "outputs": [],
   "source": [
    "std_ssh_eNATL60_GS"
   ]
  },
  {
   "cell_type": "markdown",
   "metadata": {},
   "source": [
    "click on the disk icon to see the chunk and number of tasks -> 1 259 513 Tasks !"
   ]
  },
  {
   "cell_type": "code",
   "execution_count": null,
   "metadata": {},
   "outputs": [],
   "source": [
    "mean_ssh_eNATL60_GS"
   ]
  },
  {
   "cell_type": "markdown",
   "metadata": {},
   "source": [
    "click on the disk icon to see the chunk and number of tasks -> 1 259 927 Tasks !"
   ]
  },
  {
   "cell_type": "markdown",
   "metadata": {},
   "source": [
    "## Load the data into memory for easier access"
   ]
  },
  {
   "cell_type": "code",
   "execution_count": null,
   "metadata": {},
   "outputs": [],
   "source": [
    "%%time\n",
    "std_ssh_AVISO_GS.load()"
   ]
  },
  {
   "cell_type": "code",
   "execution_count": null,
   "metadata": {},
   "outputs": [],
   "source": [
    "%%time\n",
    "mean_ssh_AVISO_GS.load()"
   ]
  },
  {
   "cell_type": "code",
   "execution_count": null,
   "metadata": {},
   "outputs": [],
   "source": [
    "%%time\n",
    "std_ssh_eNATL60_GS.load()"
   ]
  },
  {
   "cell_type": "code",
   "execution_count": null,
   "metadata": {},
   "outputs": [],
   "source": [
    "%%time\n",
    "mean_ssh_eNATL60_GS.load()"
   ]
  },
  {
   "cell_type": "markdown",
   "metadata": {},
   "source": [
    "## Make the plots"
   ]
  },
  {
   "cell_type": "code",
   "execution_count": null,
   "metadata": {},
   "outputs": [],
   "source": [
    "def plot(ax,lat,lon,datamesh,datacont,cmap,extent,vmin,vmax,cont,txt):\n",
    "    ax.set_extent(extent)\n",
    "    pcolor=ax.pcolormesh(lon,lat,datamesh,transform=ccrs.PlateCarree(),\n",
    "                         cmap=cmap,vmin=vmin,vmax=vmax)\n",
    "    contour=ax.contour(lon,lat,datacont,cont,transform=ccrs.PlateCarree(),\n",
    "                       colors='k',alpha=0.5,linewidth=0.0001,antialiased=True)\n",
    "    ax.add_feature(cfeature.LAND,facecolor='grey')\n",
    "    gl=ax.gridlines(crs=ccrs.PlateCarree(), draw_labels=True,linewidth=2, \n",
    "                    color='gray', alpha=0.5, linestyle='--')\n",
    "\n",
    "    fig.subplots_adjust(right=0.8)\n",
    "    gl.xlocator = mticker.FixedLocator([-80,-85,-70,-65,-60])\n",
    "    gl.ylocator = mticker.FixedLocator([30,35,40,45,50,55])\n",
    "    gl.xformatter = LONGITUDE_FORMATTER\n",
    "    gl.yformatter = LATITUDE_FORMATTER\n",
    "    gl.xlabel_style = {'size': 15, 'color': 'black'}\n",
    "    gl.ylabel_style = {'size': 15, 'color': 'black'}\n",
    "\n",
    "    cbar = plt.colorbar(pcolor,orientation='vertical',shrink=0.75,label='m')\n",
    "    ax.text(0.1, 0.7, txt,fontsize=15, color='white', transform=ax.transAxes)\n"
   ]
  },
  {
   "cell_type": "code",
   "execution_count": null,
   "metadata": {},
   "outputs": [],
   "source": [
    "%%time\n",
    "\n",
    "fig=plt.figure(figsize=(20,18))\n",
    "\n",
    "ax1 = fig.add_subplot(211,projection=ccrs.PlateCarree())\n",
    "plot(ax1,latAVISO_GS,lonAVISO_GS,std_ssh_AVISO_GS,mean_ssh_AVISO_GS,mplcm.YlGnBu,\n",
    "     [-80,-60,30,45],0,0.5,np.arange(-1,1,0.15),'AVISO')\n",
    "\n",
    "ax2 = fig.add_subplot(212,projection=ccrs.PlateCarree(central_longitude=-30))\n",
    "mask=np.squeeze(dsg.tmaskutil[0,jmineNATL60:jmaxeNATL60+1,imineNATL60:imaxeNATL60+1])\n",
    "data_ma_mesh=np.ma.masked_where(1-mask,std_ssh_eNATL60_GS)\n",
    "data_ma_cont=np.ma.masked_where(1-mask,mean_ssh_eNATL60_GS)\n",
    "plot(ax2,lateNATL60_GS,loneNATL60_GS,data_ma_mesh,data_ma_cont,mplcm.YlGnBu,\n",
    "     [-80,-60,30,45],0,0.5,np.arange(-1,1,0.15),'eNATL60')\n",
    "\n"
   ]
  },
  {
   "cell_type": "code",
   "execution_count": null,
   "metadata": {},
   "outputs": [],
   "source": [
    "cluster.close()\n",
    "client.close()"
   ]
  },
  {
   "cell_type": "code",
   "execution_count": null,
   "metadata": {},
   "outputs": [],
   "source": []
  }
 ],
 "metadata": {
  "kernelspec": {
   "display_name": "Python 3",
   "language": "python",
   "name": "python3"
  },
  "language_info": {
   "codemirror_mode": {
    "name": "ipython",
    "version": 3
   },
   "file_extension": ".py",
   "mimetype": "text/x-python",
   "name": "python",
   "nbconvert_exporter": "python",
   "pygments_lexer": "ipython3",
   "version": "3.7.3"
  }
 },
 "nbformat": 4,
 "nbformat_minor": 4
}
